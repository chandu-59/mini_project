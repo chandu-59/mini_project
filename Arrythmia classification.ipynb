{
 "cells": [
  {
   "cell_type": "markdown",
   "metadata": {
    "colab_type": "text",
    "id": "MowcShHcGXyr"
   },
   "source": [
    "## KNN Classifier"
   ]
  },
  {
   "cell_type": "code",
   "execution_count": 1,
   "metadata": {
    "colab": {},
    "colab_type": "code",
    "id": "1cm_Xdsyzx_b"
   },
   "outputs": [],
   "source": [
    "#import the Libraries\n",
    "import numpy as np                    # used for multdimensional array\n",
    "import pandas as pd                   # used for import the dataset\n",
    "import matplotlib.pyplot as plt       # used for plot the graph"
   ]
  },
  {
   "cell_type": "code",
   "execution_count": 2,
   "metadata": {
    "colab": {},
    "colab_type": "code",
    "id": "YBwfLRB7z-CF"
   },
   "outputs": [],
   "source": [
    "#import the dataset\n",
    "dataset=pd.read_csv('updated_features.csv')\n",
    "X=dataset.iloc[:,:-1].values    # predictor attributes\n",
    "y=dataset.iloc[:,-1].values     # target attributes\n",
    "z=np.unique(y)\n"
   ]
  },
  {
   "cell_type": "code",
   "execution_count": 3,
   "metadata": {
    "colab": {},
    "colab_type": "code",
    "id": "SnOSY8-_3ina"
   },
   "outputs": [
    {
     "data": {
      "text/html": [
       "<div>\n",
       "<style scoped>\n",
       "    .dataframe tbody tr th:only-of-type {\n",
       "        vertical-align: middle;\n",
       "    }\n",
       "\n",
       "    .dataframe tbody tr th {\n",
       "        vertical-align: top;\n",
       "    }\n",
       "\n",
       "    .dataframe thead th {\n",
       "        text-align: right;\n",
       "    }\n",
       "</style>\n",
       "<table border=\"1\" class=\"dataframe\">\n",
       "  <thead>\n",
       "    <tr style=\"text-align: right;\">\n",
       "      <th></th>\n",
       "      <th>HRV</th>\n",
       "      <th>SDSD</th>\n",
       "      <th>SDNN</th>\n",
       "      <th>RMSSD</th>\n",
       "      <th>PNN50</th>\n",
       "      <th>TINN</th>\n",
       "      <th>HTI</th>\n",
       "      <th>PLF</th>\n",
       "      <th>PHF</th>\n",
       "      <th>LFHFRatio</th>\n",
       "      <th>VLF</th>\n",
       "      <th>LF</th>\n",
       "      <th>HF</th>\n",
       "      <th>Class</th>\n",
       "    </tr>\n",
       "  </thead>\n",
       "  <tbody>\n",
       "    <tr>\n",
       "      <th>0</th>\n",
       "      <td>0.908052</td>\n",
       "      <td>0.063515</td>\n",
       "      <td>5.642670</td>\n",
       "      <td>0.918895</td>\n",
       "      <td>1.0</td>\n",
       "      <td>0.015625</td>\n",
       "      <td>5.0</td>\n",
       "      <td>80.762525</td>\n",
       "      <td>19.237475</td>\n",
       "      <td>4.198197</td>\n",
       "      <td>2.355132</td>\n",
       "      <td>0.090640</td>\n",
       "      <td>0.021664</td>\n",
       "      <td>GSVT</td>\n",
       "    </tr>\n",
       "    <tr>\n",
       "      <th>1</th>\n",
       "      <td>1.072700</td>\n",
       "      <td>0.180842</td>\n",
       "      <td>5.910351</td>\n",
       "      <td>1.087850</td>\n",
       "      <td>1.0</td>\n",
       "      <td>0.015625</td>\n",
       "      <td>5.0</td>\n",
       "      <td>82.000059</td>\n",
       "      <td>17.999941</td>\n",
       "      <td>4.555574</td>\n",
       "      <td>2.592221</td>\n",
       "      <td>0.129439</td>\n",
       "      <td>0.028416</td>\n",
       "      <td>AFIB</td>\n",
       "    </tr>\n",
       "    <tr>\n",
       "      <th>2</th>\n",
       "      <td>1.980903</td>\n",
       "      <td>0.530627</td>\n",
       "      <td>5.876639</td>\n",
       "      <td>2.050607</td>\n",
       "      <td>1.0</td>\n",
       "      <td>0.015625</td>\n",
       "      <td>3.0</td>\n",
       "      <td>79.533708</td>\n",
       "      <td>20.466292</td>\n",
       "      <td>3.886083</td>\n",
       "      <td>2.608582</td>\n",
       "      <td>0.181173</td>\n",
       "      <td>0.046686</td>\n",
       "      <td>AFIB</td>\n",
       "    </tr>\n",
       "    <tr>\n",
       "      <th>3</th>\n",
       "      <td>0.519595</td>\n",
       "      <td>0.420627</td>\n",
       "      <td>5.479227</td>\n",
       "      <td>0.688756</td>\n",
       "      <td>1.0</td>\n",
       "      <td>0.015625</td>\n",
       "      <td>9.5</td>\n",
       "      <td>81.805008</td>\n",
       "      <td>18.194992</td>\n",
       "      <td>4.496253</td>\n",
       "      <td>2.743589</td>\n",
       "      <td>0.070468</td>\n",
       "      <td>0.014770</td>\n",
       "      <td>GSVT</td>\n",
       "    </tr>\n",
       "    <tr>\n",
       "      <th>4</th>\n",
       "      <td>1.326730</td>\n",
       "      <td>0.327176</td>\n",
       "      <td>5.804215</td>\n",
       "      <td>1.366546</td>\n",
       "      <td>1.0</td>\n",
       "      <td>0.015625</td>\n",
       "      <td>4.0</td>\n",
       "      <td>81.627848</td>\n",
       "      <td>18.372152</td>\n",
       "      <td>4.443020</td>\n",
       "      <td>3.301605</td>\n",
       "      <td>0.204897</td>\n",
       "      <td>0.046112</td>\n",
       "      <td>AFIB</td>\n",
       "    </tr>\n",
       "    <tr>\n",
       "      <th>5</th>\n",
       "      <td>1.151367</td>\n",
       "      <td>0.003380</td>\n",
       "      <td>5.640783</td>\n",
       "      <td>1.151494</td>\n",
       "      <td>1.0</td>\n",
       "      <td>0.015625</td>\n",
       "      <td>4.0</td>\n",
       "      <td>81.832097</td>\n",
       "      <td>18.167903</td>\n",
       "      <td>4.504213</td>\n",
       "      <td>2.912595</td>\n",
       "      <td>0.148940</td>\n",
       "      <td>0.033092</td>\n",
       "      <td>GSVT</td>\n",
       "    </tr>\n",
       "    <tr>\n",
       "      <th>6</th>\n",
       "      <td>0.544364</td>\n",
       "      <td>0.001887</td>\n",
       "      <td>5.655564</td>\n",
       "      <td>0.544368</td>\n",
       "      <td>1.0</td>\n",
       "      <td>0.015625</td>\n",
       "      <td>9.0</td>\n",
       "      <td>81.481495</td>\n",
       "      <td>18.518505</td>\n",
       "      <td>4.400004</td>\n",
       "      <td>2.872678</td>\n",
       "      <td>0.072375</td>\n",
       "      <td>0.016454</td>\n",
       "      <td>GSVT</td>\n",
       "    </tr>\n",
       "    <tr>\n",
       "      <th>7</th>\n",
       "      <td>1.746484</td>\n",
       "      <td>0.208049</td>\n",
       "      <td>5.666119</td>\n",
       "      <td>1.758834</td>\n",
       "      <td>1.0</td>\n",
       "      <td>0.015625</td>\n",
       "      <td>4.0</td>\n",
       "      <td>74.536944</td>\n",
       "      <td>25.463056</td>\n",
       "      <td>2.927260</td>\n",
       "      <td>2.438525</td>\n",
       "      <td>0.144999</td>\n",
       "      <td>0.049534</td>\n",
       "      <td>SA</td>\n",
       "    </tr>\n",
       "    <tr>\n",
       "      <th>8</th>\n",
       "      <td>1.461238</td>\n",
       "      <td>0.119478</td>\n",
       "      <td>6.002428</td>\n",
       "      <td>1.466089</td>\n",
       "      <td>1.0</td>\n",
       "      <td>0.015625</td>\n",
       "      <td>4.0</td>\n",
       "      <td>80.329552</td>\n",
       "      <td>19.670448</td>\n",
       "      <td>4.083768</td>\n",
       "      <td>3.582712</td>\n",
       "      <td>0.207991</td>\n",
       "      <td>0.050945</td>\n",
       "      <td>SA</td>\n",
       "    </tr>\n",
       "    <tr>\n",
       "      <th>9</th>\n",
       "      <td>2.116211</td>\n",
       "      <td>0.046002</td>\n",
       "      <td>5.643520</td>\n",
       "      <td>2.116839</td>\n",
       "      <td>1.0</td>\n",
       "      <td>0.015625</td>\n",
       "      <td>2.5</td>\n",
       "      <td>79.317211</td>\n",
       "      <td>20.682789</td>\n",
       "      <td>3.834955</td>\n",
       "      <td>2.536577</td>\n",
       "      <td>0.194250</td>\n",
       "      <td>0.052478</td>\n",
       "      <td>SB</td>\n",
       "    </tr>\n",
       "  </tbody>\n",
       "</table>\n",
       "</div>"
      ],
      "text/plain": [
       "        HRV      SDSD      SDNN     RMSSD  PNN50      TINN  HTI        PLF  \\\n",
       "0  0.908052  0.063515  5.642670  0.918895    1.0  0.015625  5.0  80.762525   \n",
       "1  1.072700  0.180842  5.910351  1.087850    1.0  0.015625  5.0  82.000059   \n",
       "2  1.980903  0.530627  5.876639  2.050607    1.0  0.015625  3.0  79.533708   \n",
       "3  0.519595  0.420627  5.479227  0.688756    1.0  0.015625  9.5  81.805008   \n",
       "4  1.326730  0.327176  5.804215  1.366546    1.0  0.015625  4.0  81.627848   \n",
       "5  1.151367  0.003380  5.640783  1.151494    1.0  0.015625  4.0  81.832097   \n",
       "6  0.544364  0.001887  5.655564  0.544368    1.0  0.015625  9.0  81.481495   \n",
       "7  1.746484  0.208049  5.666119  1.758834    1.0  0.015625  4.0  74.536944   \n",
       "8  1.461238  0.119478  6.002428  1.466089    1.0  0.015625  4.0  80.329552   \n",
       "9  2.116211  0.046002  5.643520  2.116839    1.0  0.015625  2.5  79.317211   \n",
       "\n",
       "         PHF  LFHFRatio       VLF        LF        HF Class  \n",
       "0  19.237475   4.198197  2.355132  0.090640  0.021664  GSVT  \n",
       "1  17.999941   4.555574  2.592221  0.129439  0.028416  AFIB  \n",
       "2  20.466292   3.886083  2.608582  0.181173  0.046686  AFIB  \n",
       "3  18.194992   4.496253  2.743589  0.070468  0.014770  GSVT  \n",
       "4  18.372152   4.443020  3.301605  0.204897  0.046112  AFIB  \n",
       "5  18.167903   4.504213  2.912595  0.148940  0.033092  GSVT  \n",
       "6  18.518505   4.400004  2.872678  0.072375  0.016454  GSVT  \n",
       "7  25.463056   2.927260  2.438525  0.144999  0.049534    SA  \n",
       "8  19.670448   4.083768  3.582712  0.207991  0.050945    SA  \n",
       "9  20.682789   3.834955  2.536577  0.194250  0.052478    SB  "
      ]
     },
     "execution_count": 3,
     "metadata": {},
     "output_type": "execute_result"
    }
   ],
   "source": [
    "dataset.head(10)"
   ]
  },
  {
   "cell_type": "code",
   "execution_count": 4,
   "metadata": {},
   "outputs": [
    {
     "data": {
      "text/plain": [
       "(10498, 14)"
      ]
     },
     "execution_count": 4,
     "metadata": {},
     "output_type": "execute_result"
    }
   ],
   "source": [
    "dataset.shape"
   ]
  },
  {
   "cell_type": "code",
   "execution_count": 5,
   "metadata": {
    "colab": {},
    "colab_type": "code",
    "id": "Jq4JYYjA0KzE"
   },
   "outputs": [
    {
     "data": {
      "text/plain": [
       "(array([[0.9080522 , 0.06351525, 5.64267047, ..., 2.35513181, 0.09064038,\n",
       "         0.02166391],\n",
       "        [1.07269965, 0.18084231, 5.91035141, ..., 2.59222054, 0.12943917,\n",
       "         0.02841598],\n",
       "        [1.98090278, 0.53062713, 5.87663931, ..., 2.60858236, 0.18117265,\n",
       "         0.04668575],\n",
       "        ...,\n",
       "        [1.93489583, 0.49294817, 5.71911251, ..., 2.40005055, 0.11820742,\n",
       "         0.03514049],\n",
       "        [1.51041667, 0.25044379, 5.74452631, ..., 2.04515675, 0.10314724,\n",
       "         0.03724982],\n",
       "        [1.25520833, 0.2512284 , 5.82067447, ..., 3.32689595, 0.17836892,\n",
       "         0.0429307 ]]),\n",
       " array(['GSVT', 'AFIB', 'AFIB', ..., 'AFIB', 'AFIB', 'AFIB'], dtype=object),\n",
       " array(['AFIB', 'GSVT', 'SA', 'SB', 'SR'], dtype=object))"
      ]
     },
     "execution_count": 5,
     "metadata": {},
     "output_type": "execute_result"
    }
   ],
   "source": [
    "X, y, z\n"
   ]
  },
  {
   "cell_type": "code",
   "execution_count": 6,
   "metadata": {
    "colab": {},
    "colab_type": "code",
    "id": "vp8NAaOc0MT-"
   },
   "outputs": [],
   "source": [
    "# Encoding the categorical data\n",
    "from sklearn.preprocessing import LabelEncoder\n",
    "Labelencoder_y= LabelEncoder()\n",
    "y= Labelencoder_y.fit_transform(y)"
   ]
  },
  {
   "cell_type": "code",
   "execution_count": 7,
   "metadata": {
    "colab": {},
    "colab_type": "code",
    "id": "MzCVdGk30O46"
   },
   "outputs": [],
   "source": [
    "# split the dataset into test set and train set\n",
    "from sklearn.model_selection import train_test_split\n",
    "X_train, X_test, y_train, y_test = train_test_split(X,y, test_size=0.3, random_state=5)"
   ]
  },
  {
   "cell_type": "code",
   "execution_count": 8,
   "metadata": {
    "colab": {},
    "colab_type": "code",
    "id": "lc9n3hwT0RrA"
   },
   "outputs": [],
   "source": [
    "# Feature Scaling\n",
    "from sklearn.preprocessing import StandardScaler\n",
    "sc_X= StandardScaler()\n",
    "X_train=sc_X.fit_transform(X_train)\n",
    "X_test=sc_X.transform(X_test)\n"
   ]
  },
  {
   "cell_type": "code",
   "execution_count": 9,
   "metadata": {},
   "outputs": [],
   "source": [
    "import math\n",
    "n=math.sqrt(10498)\n",
    "n=round(n)"
   ]
  },
  {
   "cell_type": "code",
   "execution_count": 10,
   "metadata": {
    "colab": {},
    "colab_type": "code",
    "id": "FGNVL3U30T6f"
   },
   "outputs": [],
   "source": [
    "# importing the kNN model from scikit learn\n",
    "from sklearn.neighbors import KNeighborsClassifier"
   ]
  },
  {
   "cell_type": "code",
   "execution_count": 24,
   "metadata": {
    "colab": {},
    "colab_type": "code",
    "id": "gsJCGL7v0YwX",
    "scrolled": true
   },
   "outputs": [
    {
     "name": "stdout",
     "output_type": "stream",
     "text": [
      "0.8993650793650794\n"
     ]
    },
    {
     "data": {
      "image/png": "[encoded data removed]",
      "text/plain": [
       "<Figure size 432x288 with 1 Axes>"
      ]
     },
     "metadata": {},
     "output_type": "display_data"
    }
   ],
   "source": [
    "# init the model\n",
    "from sklearn.metrics import accuracy_score\n",
    "\n",
    "l=[]\n",
    "\n",
    "knn= KNeighborsClassifier(n_neighbors=5)  \n",
    "knn.fit(X_train,y_train)\n",
    "y_pred = knn.predict(X_test)\n",
    "ac= accuracy_score(y_test, y_pred)\n",
    "\n",
    "from sklearn.metrics import confusion_matrix\n",
    "#confusion matrix\n",
    "import seaborn as sns; sns.set()\n",
    "mat = confusion_matrix(y_test, y_pred)\n",
    "sns.heatmap(mat.T, square=True, annot=True, fmt='d', cbar=False,\n",
    "            xticklabels=z, yticklabels=z)\n",
    "plt.xlabel('true label')\n",
    "plt.ylabel('predicted label');\n",
    "print(ac)\n"
   ]
  },
  {
   "cell_type": "code",
   "execution_count": 23,
   "metadata": {},
   "outputs": [
    {
     "data": {
      "text/plain": [
       "(3150,)"
      ]
     },
     "execution_count": 23,
     "metadata": {},
     "output_type": "execute_result"
    }
   ],
   "source": [
    "y_pred.shape"
   ]
  },
  {
   "cell_type": "code",
   "execution_count": 13,
   "metadata": {
    "colab": {},
    "colab_type": "code",
    "id": "xr3RxeXK0buR"
   },
   "outputs": [
    {
     "ename": "ValueError",
     "evalue": "max() arg is an empty sequence",
     "output_type": "error",
     "traceback": [
      "\u001b[1;31m---------------------------------------------------------------------------\u001b[0m",
      "\u001b[1;31mValueError\u001b[0m                                Traceback (most recent call last)",
      "\u001b[1;32m<ipython-input-13-3026da7961f7>\u001b[0m in \u001b[0;36m<module>\u001b[1;34m\u001b[0m\n\u001b[0;32m      1\u001b[0m \u001b[1;31m#I have iterated above model for diffent values of K and found that:\u001b[0m\u001b[1;33m\u001b[0m\u001b[1;33m\u001b[0m\u001b[1;33m\u001b[0m\u001b[0m\n\u001b[1;32m----> 2\u001b[1;33m \u001b[0mbest\u001b[0m\u001b[1;33m=\u001b[0m\u001b[0mmax\u001b[0m\u001b[1;33m(\u001b[0m\u001b[0ml\u001b[0m\u001b[1;33m)\u001b[0m\u001b[1;33m\u001b[0m\u001b[1;33m\u001b[0m\u001b[0m\n\u001b[0m\u001b[0;32m      3\u001b[0m \u001b[0mprint\u001b[0m\u001b[1;33m(\u001b[0m\u001b[1;34m\"The highest 'Accuracy',\"\u001b[0m\u001b[1;33m,\u001b[0m\u001b[0mbest\u001b[0m\u001b[1;33m[\u001b[0m\u001b[1;36m0\u001b[0m\u001b[1;33m]\u001b[0m\u001b[1;33m,\u001b[0m\u001b[1;34m\"is achieved when k=\"\u001b[0m\u001b[1;33m,\u001b[0m\u001b[0mbest\u001b[0m\u001b[1;33m[\u001b[0m\u001b[1;36m1\u001b[0m\u001b[1;33m]\u001b[0m\u001b[1;33m)\u001b[0m\u001b[1;33m\u001b[0m\u001b[1;33m\u001b[0m\u001b[0m\n\u001b[0;32m      4\u001b[0m \u001b[0mbest\u001b[0m\u001b[1;33m\u001b[0m\u001b[1;33m\u001b[0m\u001b[0m\n",
      "\u001b[1;31mValueError\u001b[0m: max() arg is an empty sequence"
     ]
    }
   ],
   "source": [
    "#I have iterated above model for diffent values of K and found that:\n",
    "best=max(l)\n",
    "print(\"The highest 'Accuracy',\",best[0],\"is achieved when k=\",best[1])\n",
    "best"
   ]
  },
  {
   "cell_type": "code",
   "execution_count": null,
   "metadata": {},
   "outputs": [],
   "source": [
    "from sklearn.metrics import f1_score\n",
    "f1= f1_score(y_test,y_pred,average=\"weighted\")\n",
    "f1"
   ]
  },
  {
   "cell_type": "code",
   "execution_count": 14,
   "metadata": {},
   "outputs": [
    {
     "data": {
      "text/plain": [
       "(3150,)"
      ]
     },
     "execution_count": 14,
     "metadata": {},
     "output_type": "execute_result"
    }
   ],
   "source": [
    "y_test.shape\n"
   ]
  },
  {
   "cell_type": "code",
   "execution_count": 22,
   "metadata": {},
   "outputs": [
    {
     "data": {
      "text/plain": [
       "(3150,)"
      ]
     },
     "execution_count": 22,
     "metadata": {},
     "output_type": "execute_result"
    }
   ],
   "source": [
    "y_pred.shape"
   ]
  },
  {
   "cell_type": "code",
   "execution_count": null,
   "metadata": {},
   "outputs": [],
   "source": []
  }
 ],
 "metadata": {
  "colab": {
   "collapsed_sections": [],
   "name": "KNN.ipynb",
   "provenance": [],
   "toc_visible": true
  },
  "kernelspec": {
   "display_name": "Python 3",
   "language": "python",
   "name": "python3"
  },
  "language_info": {
   "codemirror_mode": {
    "name": "ipython",
    "version": 3
   },
   "file_extension": ".py",
   "mimetype": "text/x-python",
   "name": "python",
   "nbconvert_exporter": "python",
   "pygments_lexer": "ipython3",
   "version": "3.8.8"
  }
 },
 "nbformat": 4,
 "nbformat_minor": 1
}
